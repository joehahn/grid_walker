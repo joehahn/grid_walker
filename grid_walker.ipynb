{
 "cells": [
  {
   "cell_type": "code",
   "execution_count": null,
   "metadata": {},
   "outputs": [],
   "source": [
    "#grid_walker.ipynb\n",
    "#\n",
    "#by Joe Hahn\n",
    "#jmh.datasciences@gmail.com\n",
    "#3 February 2018\n",
    "#\n",
    "#grid_walker uses Q-learning to teach a neural net AI how to navigate an agent about\n",
    "#a 6x6 grid, guiding it towards a goal while avoiding obstacles and hazards"
   ]
  },
  {
   "cell_type": "code",
   "execution_count": null,
   "metadata": {},
   "outputs": [],
   "source": [
    "#import plotting libraries\n",
    "%matplotlib inline\n",
    "import matplotlib.pyplot as plt\n",
    "import seaborn as sns\n",
    "sns.set(font_scale=1.5, font='DejaVu Sans')"
   ]
  },
  {
   "cell_type": "code",
   "execution_count": null,
   "metadata": {},
   "outputs": [],
   "source": [
    "#game settings\n",
    "grid_size = 6\n",
    "init = 'random_agent'\n",
    "rn_seed = 15"
   ]
  },
  {
   "cell_type": "code",
   "execution_count": null,
   "metadata": {},
   "outputs": [],
   "source": [
    "#seed random number generator\n",
    "import numpy as np\n",
    "np.random.seed(rn_seed)"
   ]
  },
  {
   "cell_type": "code",
   "execution_count": null,
   "metadata": {
    "scrolled": true
   },
   "outputs": [],
   "source": [
    "from grid_walker import *"
   ]
  },
  {
   "cell_type": "code",
   "execution_count": null,
   "metadata": {},
   "outputs": [],
   "source": [
    "#check initial conditions\n",
    "environment = initialize_environment(grid_size, init)\n",
    "state = initialize_state(environment)\n",
    "objects = environment['objects']\n",
    "actions = environment['actions']\n",
    "acts = environment['acts']\n",
    "state_vector = state2vector(state, environment)\n",
    "grid = make_grid(state, environment)\n",
    "print 'objects = ', objects\n",
    "print 'actions = ', actions\n",
    "print 'acts = ', acts\n",
    "print 'state = ', state\n",
    "print 'state_vector = ', state_vector\n",
    "print 'state_vector.shape = ', state_vector.shape\n",
    "print np.rot90(grid.T)\n",
    "N_inputs = state_vector.shape[1]\n",
    "N_outputs = len(actions)\n",
    "grid_size = environment['grid_size']\n",
    "max_moves = environment['max_moves']\n",
    "print 'N_inputs = ', N_inputs\n",
    "print 'N_outputs = ', N_outputs\n",
    "print 'grid_size = ', grid_size\n",
    "print 'max_moves = ', max_moves\n",
    "print 'rn_seed = ', rn_seed"
   ]
  },
  {
   "cell_type": "code",
   "execution_count": null,
   "metadata": {},
   "outputs": [],
   "source": [
    "#assemble neural network that agent will use to navigate the grid\n",
    "model = build_model(N_inputs, grid_size, N_outputs)\n",
    "print model.summary()"
   ]
  },
  {
   "cell_type": "code",
   "execution_count": null,
   "metadata": {
    "scrolled": true
   },
   "outputs": [],
   "source": [
    "#train neural network to walk agent towards goal\n",
    "N_training_games = 500                #number of games to play while training model\n",
    "gamma = 0.9                           #discount for future rewards\n",
    "memories_size = 100                   #size of memory queue size, for experience replay\n",
    "batch_size = memories_size/5          #number of memories to use when retraining the model\n",
    "debug = True\n",
    "trained_model = train(model, N_training_games, gamma, memories_size, batch_size, debug=debug)"
   ]
  },
  {
   "cell_type": "code",
   "execution_count": null,
   "metadata": {},
   "outputs": [],
   "source": [
    "#test the trained neural network\n",
    "initial_state, final_state, N_moves = test_model(trained_model, environment)"
   ]
  },
  {
   "cell_type": "code",
   "execution_count": null,
   "metadata": {},
   "outputs": [],
   "source": []
  }
 ],
 "metadata": {
  "kernelspec": {
   "display_name": "Python 2",
   "language": "python",
   "name": "python2"
  },
  "language_info": {
   "codemirror_mode": {
    "name": "ipython",
    "version": 2
   },
   "file_extension": ".py",
   "mimetype": "text/x-python",
   "name": "python",
   "nbconvert_exporter": "python",
   "pygments_lexer": "ipython2",
   "version": "2.7.14"
  }
 },
 "nbformat": 4,
 "nbformat_minor": 2
}
